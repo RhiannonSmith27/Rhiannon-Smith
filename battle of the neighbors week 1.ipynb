{
 "cells": [
  {
   "cell_type": "markdown",
   "metadata": {},
   "source": [
    "**Battle of the neighborhoods**"
   ]
  },
  {
   "cell_type": "markdown",
   "metadata": {},
   "source": [
    "A description of the problem and a discussion of the background. (15 marks)"
   ]
  },
  {
   "cell_type": "markdown",
   "metadata": {},
   "source": [
    "The Problem"
   ]
  },
  {
   "cell_type": "markdown",
   "metadata": {},
   "source": [
    "In New York city there is a lot of restaurants already and opening one in New York would be very hard without knowing the best location for it. To find the best place to start a new restaurant you need to work out where other restaurants are based and local ammenities which would benefit the business. To recommend the best place to open first the location of all other restaurants must be considered. Then the distance from local towns and shopping centres need to be considered."
   ]
  },
  {
   "cell_type": "markdown",
   "metadata": {},
   "source": [
    "Background"
   ]
  },
  {
   "cell_type": "markdown",
   "metadata": {},
   "source": [
    "The problems starts with the amount of money a business needs to make and how much it can make in a certain area. With such a vast array of restaurants in a city the new businesses need to establish where is best to open to give the best chances of the business making money and surviving. To do this we can look into\n",
    "- the population of the area\n",
    "- the diversity of the area\n",
    "- what the local restaurants offer\n",
    "- the pricing of local restaurants\n",
    "- the cuisines offered\n",
    "- local ammenities\n",
    "- etc\n",
    "\n",
    "These are all important factors in giving a new business the best possible start."
   ]
  },
  {
   "cell_type": "markdown",
   "metadata": {},
   "source": [
    "A description of the data and how it will be used to solve the problem. (15 marks)"
   ]
  },
  {
   "cell_type": "code",
   "execution_count": null,
   "metadata": {},
   "outputs": [],
   "source": []
  }
 ],
 "metadata": {
  "kernelspec": {
   "display_name": "Python 3",
   "language": "python",
   "name": "python3"
  },
  "language_info": {
   "codemirror_mode": {
    "name": "ipython",
    "version": 3
   },
   "file_extension": ".py",
   "mimetype": "text/x-python",
   "name": "python",
   "nbconvert_exporter": "python",
   "pygments_lexer": "ipython3",
   "version": "3.7.5"
  }
 },
 "nbformat": 4,
 "nbformat_minor": 2
}
